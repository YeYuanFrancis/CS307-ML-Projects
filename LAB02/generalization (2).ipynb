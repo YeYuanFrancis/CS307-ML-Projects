{
 "cells": [
  {
   "cell_type": "markdown",
   "metadata": {},
   "source": [
    "# Generalization"
   ]
  },
  {
   "cell_type": "code",
   "execution_count": 12,
   "metadata": {},
   "outputs": [],
   "source": [
    "import numpy as np\n",
    "import matplotlib.pyplot as plt\n",
    "from sklearn.model_selection import train_test_split\n",
    "from sklearn.neighbors import KNeighborsRegressor\n",
    "from sklearn.model_selection import cross_val_score\n",
    "from sklearn.model_selection import KFold\n",
    "\n",
    "\n",
    "plt.style.use(\"seaborn-v0_8-whitegrid\")"
   ]
  },
  {
   "cell_type": "code",
   "execution_count": 13,
   "metadata": {},
   "outputs": [],
   "source": [
    "def rmse(y_true, y_pred):\n",
    "    return np.sqrt(np.mean((y_true - y_pred) ** 2))"
   ]
  },
  {
   "cell_type": "markdown",
   "metadata": {},
   "source": [
    "## Validation Set Approach"
   ]
  },
  {
   "cell_type": "code",
   "execution_count": 14,
   "metadata": {},
   "outputs": [],
   "source": [
    "# helper function to simulate data\n",
    "def gen_validation_data(seed):\n",
    "    np.random.seed(seed)\n",
    "    n = 50\n",
    "    X = np.random.uniform(low=-2 * np.pi, high=2 * np.pi, size=(n, 1))\n",
    "    y = np.sin(X).ravel() + np.random.normal(loc=0, scale=0.25, size=n)\n",
    "    X_train, _, y_train, _ = train_test_split(X, y, test_size=0.20)\n",
    "    X_vtrain, X_validation, y_vtrain, y_validation = train_test_split(\n",
    "        X_train, y_train, test_size=0.20, random_state=seed\n",
    "    )\n",
    "    return X_train, y_train, X_vtrain, X_validation, y_vtrain, y_validation"
   ]
  },
  {
   "cell_type": "code",
   "execution_count": 15,
   "metadata": {},
   "outputs": [],
   "source": [
    "# here we define the values of k we will consider\n",
    "k_values = np.arange(1, 11)"
   ]
  },
  {
   "cell_type": "code",
   "execution_count": 16,
   "metadata": {},
   "outputs": [],
   "source": [
    "# calculate validation RMSE and find best k\n",
    "# do this for 100 simulated datasets\n",
    "k_best = []\n",
    "for seed in range(100):\n",
    "    k_rmse = []\n",
    "    # only need vtrain and validation\n",
    "    _, _, X_vtrain, X_validation, y_vtrain, y_validation = gen_validation_data(seed)\n",
    "    for k in k_values:\n",
    "        knn = KNeighborsRegressor(n_neighbors=k)\n",
    "        knn.fit(X_vtrain, y_vtrain)\n",
    "        k_rmse.append(rmse(y_validation, knn.predict(X_validation)))\n",
    "    k_best.append(k_rmse.index(min(k_rmse)) + 1)"
   ]
  },
  {
   "cell_type": "code",
   "execution_count": 17,
   "metadata": {},
   "outputs": [
    {
     "data": {
      "text/plain": [
       "array([ 1,  6,  2,  5,  1,  7,  1,  7,  1,  2,  3, 10,  1,  4,  1,  2,  1,\n",
       "        5,  9,  2,  3,  4,  2,  2,  7,  4,  1,  3,  5,  3,  2,  8,  3,  3,\n",
       "        3,  2,  2,  3,  2,  1,  2,  5,  6,  2,  2,  2,  2,  1,  2,  4,  1,\n",
       "        2,  6,  1,  1,  8,  6,  4,  2,  1,  2,  3,  1,  4,  2,  2,  2,  4,\n",
       "        1,  1,  3,  3,  8,  4,  9,  7,  6,  3,  7,  3,  5,  2,  5,  4,  1,\n",
       "        4,  1,  1,  1,  4,  3,  6,  1,  1,  5,  1,  1,  1,  4,  3])"
      ]
     },
     "execution_count": 17,
     "metadata": {},
     "output_type": "execute_result"
    }
   ],
   "source": [
    "np.array(k_best)"
   ]
  },
  {
   "cell_type": "code",
   "execution_count": 18,
   "metadata": {},
   "outputs": [
    {
     "data": {
      "image/png": "[encoded data removed]",
      "text/plain": [
       "<Figure size 640x480 with 1 Axes>"
      ]
     },
     "metadata": {},
     "output_type": "display_data"
    }
   ],
   "source": [
    "fig, ax = plt.subplots()\n",
    "\n",
    "ax.bar(k_values, [k_best.count(i) for i in k_values], color=\"dodgerblue\")\n",
    "ax.set_title(\"Repeatedly Tuning k For Simulated Data: Single Validation Set\")\n",
    "ax.set_xlabel(\"k\")\n",
    "ax.set_ylabel(\"Times Selected\")\n",
    "ax.set_xticks(k_values)\n",
    "\n",
    "plt.show()"
   ]
  },
  {
   "cell_type": "markdown",
   "metadata": {},
   "source": []
  },
  {
   "cell_type": "markdown",
   "metadata": {},
   "source": [
    "## Cross-Validation"
   ]
  },
  {
   "cell_type": "code",
   "execution_count": 19,
   "metadata": {},
   "outputs": [
    {
     "name": "stdout",
     "output_type": "stream",
     "text": [
      "Fold 0:\n",
      "  Validation-Train: index=[ 0  2  6  7  8  9 10 11 12 13 14 15 16 17 19 20 21 22 23 24]\n",
      "  Validation:  index=[ 1  3  4  5 18]\n",
      "  Validation RMSE for fold 0: 0.432.\n",
      "\n",
      "Fold 1:\n",
      "  Validation-Train: index=[ 0  1  2  3  4  5  6  7  8 10 11 12 14 16 18 19 21 22 23 24]\n",
      "  Validation:  index=[ 9 13 15 17 20]\n",
      "  Validation RMSE for fold 1: 0.328.\n",
      "\n",
      "Fold 2:\n",
      "  Validation-Train: index=[ 0  1  3  4  5  6  8  9 11 12 13 14 15 17 18 19 20 22 23 24]\n",
      "  Validation:  index=[ 2  7 10 16 21]\n",
      "  Validation RMSE for fold 2: 0.511.\n",
      "\n",
      "Fold 3:\n",
      "  Validation-Train: index=[ 1  2  3  4  5  7  8  9 10 12 13 14 15 16 17 18 20 21 23 24]\n",
      "  Validation:  index=[ 0  6 11 19 22]\n",
      "  Validation RMSE for fold 3: 0.301.\n",
      "\n",
      "Fold 4:\n",
      "  Validation-Train: index=[ 0  1  2  3  4  5  6  7  9 10 11 13 15 16 17 18 19 20 21 22]\n",
      "  Validation:  index=[ 8 12 14 23 24]\n",
      "  Validation RMSE for fold 4: 0.508.\n",
      "\n",
      "[0.43220315897900297, 0.32825785809603286, 0.5114604124701475, 0.30141545242796486, 0.5084837968940963]\n",
      "0.5084837968940963\n"
     ]
    }
   ],
   "source": [
    "np.random.seed(42)\n",
    "n = 25\n",
    "X_train = np.random.uniform(low=-2 * np.pi, high=2 * np.pi, size=(n, 1))\n",
    "y_train = np.sin(X_train).ravel() + np.random.normal(loc=0, scale=0.25, size=n)\n",
    "\n",
    "kf = KFold(n_splits=5, shuffle=True)\n",
    "knn = KNeighborsRegressor(n_neighbors=3)\n",
    "\n",
    "rmse_folds = []\n",
    "\n",
    "# note: we do not recommend performing cross-validation like this in practice\n",
    "# this is done here for illustrative purposes\n",
    "# this shows which observations are using for training or validation in each fold\n",
    "for i, (vtrain_index, validation_index) in enumerate(kf.split(X_train)):\n",
    "    print(f\"Fold {i}:\")\n",
    "    print(f\"  Validation-Train: index={vtrain_index}\")\n",
    "    print(f\"  Validation:  index={validation_index}\")\n",
    "    knn.fit(X_train[vtrain_index, :], y_train[vtrain_index])\n",
    "    predictions = knn.predict(X_train[validation_index, :])\n",
    "    rmse_fold = rmse(y_train[validation_index], predictions)\n",
    "    print(f\"  Validation RMSE for fold {i}: {np.round(rmse_fold, 3)}.\")\n",
    "    print(f\"\")\n",
    "    rmse_folds.append(rmse_fold)\n",
    "\n",
    "print(rmse_folds)\n",
    "print(np.mean(rmse_fold))"
   ]
  },
  {
   "cell_type": "markdown",
   "metadata": {},
   "source": [
    "### Tuning with Cross-Validation"
   ]
  },
  {
   "cell_type": "code",
   "execution_count": 20,
   "metadata": {},
   "outputs": [],
   "source": [
    "k_best = []\n",
    "for seed in range(100):\n",
    "    # here we only need the full train data\n",
    "    # cross-validation will auto-magically create vtrain and validation for each fold\n",
    "    X_train, y_train, _, _, _, _ = gen_validation_data(seed)\n",
    "    k_rmse = []\n",
    "\n",
    "    for k in k_values:\n",
    "        knn = KNeighborsRegressor(n_neighbors=k)\n",
    "        scores = cross_val_score(knn, X_train, y_train, cv=5, scoring=\"neg_mean_squared_error\")\n",
    "        rmse_scores = np.sqrt(-scores)\n",
    "        k_rmse.append(rmse_scores.mean())\n",
    "\n",
    "    k_best.append(k_rmse.index(min(k_rmse)) + 1)"
   ]
  },
  {
   "cell_type": "code",
   "execution_count": 21,
   "metadata": {},
   "outputs": [
    {
     "data": {
      "text/plain": [
       "array([1, 1, 2, 3, 2, 5, 1, 3, 1, 3, 2, 2, 1, 3, 2, 3, 1, 5, 3, 4, 4, 2,\n",
       "       4, 2, 3, 2, 4, 4, 3, 1, 1, 2, 3, 2, 2, 4, 4, 2, 4, 1, 2, 1, 5, 1,\n",
       "       5, 3, 2, 2, 2, 5, 3, 3, 5, 1, 3, 2, 3, 3, 1, 2, 2, 3, 1, 3, 2, 1,\n",
       "       4, 1, 3, 2, 1, 2, 2, 2, 2, 4, 3, 1, 4, 1, 3, 2, 3, 1, 4, 2, 3, 2,\n",
       "       2, 2, 3, 2, 3, 4, 2, 4, 2, 3, 2, 1])"
      ]
     },
     "execution_count": 21,
     "metadata": {},
     "output_type": "execute_result"
    }
   ],
   "source": [
    "np.array(k_best)"
   ]
  },
  {
   "cell_type": "code",
   "execution_count": 22,
   "metadata": {},
   "outputs": [
    {
     "data": {
      "image/png": "[encoded data removed]",
      "text/plain": [
       "<Figure size 640x480 with 1 Axes>"
      ]
     },
     "metadata": {},
     "output_type": "display_data"
    }
   ],
   "source": [
    "fig, ax = plt.subplots()\n",
    "\n",
    "ax.bar(k_values, [k_best.count(i) for i in k_values], color=\"dodgerblue\")\n",
    "ax.set_title(\"Repeatedly Tuning k For Simulated Data: Cross-Validation\")\n",
    "ax.set_xlabel(\"k\")\n",
    "ax.set_ylabel(\"Times Selected\")\n",
    "\n",
    "ax.set_xticks(k_values)\n",
    "\n",
    "plt.show()"
   ]
  },
  {
   "cell_type": "markdown",
   "metadata": {},
   "source": [
    "**Takeaway**: By using cross-validation, the hyperparameter tuning process is much more stable. In particular, there is less variance is the selected values of the tuning parameters."
   ]
  }
 ],
 "metadata": {
  "kernelspec": {
   "display_name": "Python 3",
   "language": "python",
   "name": "python3"
  },
  "language_info": {
   "codemirror_mode": {
    "name": "ipython",
    "version": 3
   },
   "file_extension": ".py",
   "mimetype": "text/x-python",
   "name": "python",
   "nbconvert_exporter": "python",
   "pygments_lexer": "ipython3",
   "version": "3.12.5"
  }
 },
 "nbformat": 4,
 "nbformat_minor": 2
}
