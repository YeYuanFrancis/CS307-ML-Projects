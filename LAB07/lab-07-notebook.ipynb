{
 "cells": [
  {
   "cell_type": "markdown",
   "metadata": {},
   "source": [
    "# Lab 07: Credit Card Fraud Detection"
   ]
  },
  {
   "cell_type": "markdown",
   "metadata": {},
   "source": [
    "---\n",
    "author: Ye Yuan\n",
    "date: November, 2024\n",
    "embed-resources: true\n",
    "---"
   ]
  },
  {
   "cell_type": "markdown",
   "metadata": {},
   "source": [
    "## Introduction"
   ]
  },
  {
   "cell_type": "markdown",
   "metadata": {},
   "source": [
    "Credit card fraud is a significant concern for financial institutions, with millions of transactions being processed daily and constant attempts by bad actors to conduct fraudulent transactions. This report presents an automated solution designed to help banking institutions, like the one employing this data scientist, to immediately identify fraudulent credit card transactions based on the information available at the moment. By leveraging historical transaction data and machine learning techniques, this report aims to present an effective fraud detection model that appropriately balances false positives and false negatives, ensuring reliable loss minimization while maintaining good customer experience."
   ]
  },
  {
   "cell_type": "markdown",
   "metadata": {},
   "source": [
    "## Methods"
   ]
  },
  {
   "cell_type": "code",
   "execution_count": 9,
   "metadata": {},
   "outputs": [],
   "source": [
    "# imports\n",
    "import pandas as pd\n",
    "import matplotlib.pyplot as plt\n",
    "import seaborn as sns\n",
    "from sklearn.model_selection import train_test_split\n",
    "from sklearn.pipeline import Pipeline\n",
    "from sklearn.preprocessing import StandardScaler\n",
    "from sklearn.ensemble import RandomForestClassifier\n",
    "from sklearn.model_selection import GridSearchCV\n",
    "from sklearn.metrics import precision_score, recall_score, classification_report, confusion_matrix, roc_auc_score\n",
    "from sklearn.model_selection import cross_val_score"
   ]
  },
  {
   "cell_type": "markdown",
   "metadata": {},
   "source": [
    "### Data"
   ]
  },
  {
   "cell_type": "markdown",
   "metadata": {},
   "source": [
    "The dataset used for this project consists of credit card transactions collected over two days, with a total of 284,807 transactions, of which 492 are fraudulent. Due to confidentiality, the original feature descriptions are not available, and most features are derived from Principal Component Analysis (PCA).\n",
    "\n",
    "Data Description: The features include PC01 to PC28, which are PCA-transformed features, and Amount, which refers to the transaction value in dollars.\n",
    "Label: The target variable, Fraud, indicates whether"
   ]
  },
  {
   "cell_type": "code",
   "execution_count": 10,
   "metadata": {},
   "outputs": [],
   "source": [
    "# load data\n",
    "fraud = pd.read_parquet(\"https://cs307.org/lab-07/data/fraud.parquet\")"
   ]
  },
  {
   "cell_type": "code",
   "execution_count": 11,
   "metadata": {},
   "outputs": [],
   "source": [
    "fraud_train, fraud_test = train_test_split(\n",
    "    fraud,\n",
    "    test_size=0.20,\n",
    "    random_state=42,\n",
    "    stratify=fraud[\"Fraud\"],\n",
    ")"
   ]
  },
  {
   "cell_type": "code",
   "execution_count": 12,
   "metadata": {},
   "outputs": [
    {
     "data": {
      "text/html": [
       "<div>\n",
       "<style scoped>\n",
       "    .dataframe tbody tr th:only-of-type {\n",
       "        vertical-align: middle;\n",
       "    }\n",
       "\n",
       "    .dataframe tbody tr th {\n",
       "        vertical-align: top;\n",
       "    }\n",
       "\n",
       "    .dataframe thead th {\n",
       "        text-align: right;\n",
       "    }\n",
       "</style>\n",
       "<table border=\"1\" class=\"dataframe\">\n",
       "  <thead>\n",
       "    <tr style=\"text-align: right;\">\n",
       "      <th></th>\n",
       "      <th>PC01</th>\n",
       "      <th>PC02</th>\n",
       "      <th>PC03</th>\n",
       "      <th>PC04</th>\n",
       "      <th>PC05</th>\n",
       "      <th>PC06</th>\n",
       "      <th>PC07</th>\n",
       "      <th>PC08</th>\n",
       "      <th>PC09</th>\n",
       "      <th>PC10</th>\n",
       "      <th>...</th>\n",
       "      <th>PC21</th>\n",
       "      <th>PC22</th>\n",
       "      <th>PC23</th>\n",
       "      <th>PC24</th>\n",
       "      <th>PC25</th>\n",
       "      <th>PC26</th>\n",
       "      <th>PC27</th>\n",
       "      <th>PC28</th>\n",
       "      <th>Amount</th>\n",
       "      <th>Fraud</th>\n",
       "    </tr>\n",
       "  </thead>\n",
       "  <tbody>\n",
       "    <tr>\n",
       "      <th>57638</th>\n",
       "      <td>-0.514509</td>\n",
       "      <td>0.899378</td>\n",
       "      <td>1.627215</td>\n",
       "      <td>-0.142250</td>\n",
       "      <td>0.005250</td>\n",
       "      <td>-0.235422</td>\n",
       "      <td>0.482540</td>\n",
       "      <td>0.247403</td>\n",
       "      <td>-0.562327</td>\n",
       "      <td>-0.166813</td>\n",
       "      <td>...</td>\n",
       "      <td>-0.143290</td>\n",
       "      <td>-0.390205</td>\n",
       "      <td>0.030719</td>\n",
       "      <td>0.184779</td>\n",
       "      <td>-0.348711</td>\n",
       "      <td>0.073253</td>\n",
       "      <td>0.273217</td>\n",
       "      <td>0.107938</td>\n",
       "      <td>3.59</td>\n",
       "      <td>0</td>\n",
       "    </tr>\n",
       "    <tr>\n",
       "      <th>27686</th>\n",
       "      <td>-0.813568</td>\n",
       "      <td>-0.373893</td>\n",
       "      <td>1.152977</td>\n",
       "      <td>-0.449774</td>\n",
       "      <td>-3.868866</td>\n",
       "      <td>2.780636</td>\n",
       "      <td>3.654192</td>\n",
       "      <td>-0.672442</td>\n",
       "      <td>0.753230</td>\n",
       "      <td>-0.662803</td>\n",
       "      <td>...</td>\n",
       "      <td>-0.376783</td>\n",
       "      <td>-0.004239</td>\n",
       "      <td>0.074801</td>\n",
       "      <td>0.124238</td>\n",
       "      <td>-0.448493</td>\n",
       "      <td>0.861423</td>\n",
       "      <td>-0.093639</td>\n",
       "      <td>-0.711632</td>\n",
       "      <td>798.01</td>\n",
       "      <td>0</td>\n",
       "    </tr>\n",
       "    <tr>\n",
       "      <th>13321</th>\n",
       "      <td>-2.443142</td>\n",
       "      <td>3.258831</td>\n",
       "      <td>-0.791511</td>\n",
       "      <td>0.223548</td>\n",
       "      <td>0.007932</td>\n",
       "      <td>-1.263044</td>\n",
       "      <td>1.220214</td>\n",
       "      <td>-0.418068</td>\n",
       "      <td>1.860453</td>\n",
       "      <td>4.184883</td>\n",
       "      <td>...</td>\n",
       "      <td>-0.348587</td>\n",
       "      <td>0.531679</td>\n",
       "      <td>0.058990</td>\n",
       "      <td>0.371638</td>\n",
       "      <td>-0.207398</td>\n",
       "      <td>-0.505837</td>\n",
       "      <td>0.524542</td>\n",
       "      <td>-0.343895</td>\n",
       "      <td>1.79</td>\n",
       "      <td>0</td>\n",
       "    </tr>\n",
       "    <tr>\n",
       "      <th>28308</th>\n",
       "      <td>-0.397300</td>\n",
       "      <td>0.922104</td>\n",
       "      <td>1.224699</td>\n",
       "      <td>-0.334974</td>\n",
       "      <td>0.322603</td>\n",
       "      <td>-0.117372</td>\n",
       "      <td>0.534683</td>\n",
       "      <td>0.175550</td>\n",
       "      <td>-0.486404</td>\n",
       "      <td>-0.120147</td>\n",
       "      <td>...</td>\n",
       "      <td>-0.239303</td>\n",
       "      <td>-0.695001</td>\n",
       "      <td>-0.128231</td>\n",
       "      <td>-0.536463</td>\n",
       "      <td>-0.138971</td>\n",
       "      <td>0.107526</td>\n",
       "      <td>0.255644</td>\n",
       "      <td>0.100814</td>\n",
       "      <td>2.69</td>\n",
       "      <td>0</td>\n",
       "    </tr>\n",
       "    <tr>\n",
       "      <th>54252</th>\n",
       "      <td>1.994046</td>\n",
       "      <td>-0.367813</td>\n",
       "      <td>-0.462867</td>\n",
       "      <td>0.338661</td>\n",
       "      <td>-0.485326</td>\n",
       "      <td>-0.241576</td>\n",
       "      <td>-0.590987</td>\n",
       "      <td>0.089319</td>\n",
       "      <td>1.413224</td>\n",
       "      <td>-0.149292</td>\n",
       "      <td>...</td>\n",
       "      <td>-0.196388</td>\n",
       "      <td>-0.484457</td>\n",
       "      <td>0.421867</td>\n",
       "      <td>0.601393</td>\n",
       "      <td>-0.448014</td>\n",
       "      <td>-0.646256</td>\n",
       "      <td>0.027632</td>\n",
       "      <td>-0.027244</td>\n",
       "      <td>4.49</td>\n",
       "      <td>0</td>\n",
       "    </tr>\n",
       "    <tr>\n",
       "      <th>...</th>\n",
       "      <td>...</td>\n",
       "      <td>...</td>\n",
       "      <td>...</td>\n",
       "      <td>...</td>\n",
       "      <td>...</td>\n",
       "      <td>...</td>\n",
       "      <td>...</td>\n",
       "      <td>...</td>\n",
       "      <td>...</td>\n",
       "      <td>...</td>\n",
       "      <td>...</td>\n",
       "      <td>...</td>\n",
       "      <td>...</td>\n",
       "      <td>...</td>\n",
       "      <td>...</td>\n",
       "      <td>...</td>\n",
       "      <td>...</td>\n",
       "      <td>...</td>\n",
       "      <td>...</td>\n",
       "      <td>...</td>\n",
       "      <td>...</td>\n",
       "    </tr>\n",
       "    <tr>\n",
       "      <th>49499</th>\n",
       "      <td>-0.033583</td>\n",
       "      <td>-0.487672</td>\n",
       "      <td>1.435406</td>\n",
       "      <td>-2.759369</td>\n",
       "      <td>-1.785638</td>\n",
       "      <td>0.402364</td>\n",
       "      <td>-2.306038</td>\n",
       "      <td>-2.287179</td>\n",
       "      <td>0.129717</td>\n",
       "      <td>-1.036412</td>\n",
       "      <td>...</td>\n",
       "      <td>-1.286823</td>\n",
       "      <td>0.824100</td>\n",
       "      <td>0.018890</td>\n",
       "      <td>0.000018</td>\n",
       "      <td>0.301618</td>\n",
       "      <td>0.081215</td>\n",
       "      <td>0.163422</td>\n",
       "      <td>0.252456</td>\n",
       "      <td>10.00</td>\n",
       "      <td>0</td>\n",
       "    </tr>\n",
       "    <tr>\n",
       "      <th>29250</th>\n",
       "      <td>-0.731245</td>\n",
       "      <td>1.151677</td>\n",
       "      <td>0.912393</td>\n",
       "      <td>-0.653540</td>\n",
       "      <td>0.700577</td>\n",
       "      <td>-0.461372</td>\n",
       "      <td>1.093273</td>\n",
       "      <td>-0.126254</td>\n",
       "      <td>-0.339171</td>\n",
       "      <td>-0.467356</td>\n",
       "      <td>...</td>\n",
       "      <td>-0.368185</td>\n",
       "      <td>-0.991854</td>\n",
       "      <td>-0.376461</td>\n",
       "      <td>-0.661608</td>\n",
       "      <td>0.554237</td>\n",
       "      <td>0.450650</td>\n",
       "      <td>0.076395</td>\n",
       "      <td>0.096252</td>\n",
       "      <td>6.99</td>\n",
       "      <td>0</td>\n",
       "    </tr>\n",
       "    <tr>\n",
       "      <th>31586</th>\n",
       "      <td>2.135923</td>\n",
       "      <td>-0.714182</td>\n",
       "      <td>-1.842502</td>\n",
       "      <td>-0.587267</td>\n",
       "      <td>0.090754</td>\n",
       "      <td>-0.465733</td>\n",
       "      <td>-0.024834</td>\n",
       "      <td>-0.328747</td>\n",
       "      <td>-0.659832</td>\n",
       "      <td>0.853241</td>\n",
       "      <td>...</td>\n",
       "      <td>-0.537267</td>\n",
       "      <td>-1.081138</td>\n",
       "      <td>0.196589</td>\n",
       "      <td>0.087797</td>\n",
       "      <td>-0.111583</td>\n",
       "      <td>0.479888</td>\n",
       "      <td>-0.082523</td>\n",
       "      <td>-0.053305</td>\n",
       "      <td>64.90</td>\n",
       "      <td>0</td>\n",
       "    </tr>\n",
       "    <tr>\n",
       "      <th>14898</th>\n",
       "      <td>-0.335632</td>\n",
       "      <td>0.939736</td>\n",
       "      <td>-2.961515</td>\n",
       "      <td>-1.224739</td>\n",
       "      <td>4.446891</td>\n",
       "      <td>2.352092</td>\n",
       "      <td>0.789725</td>\n",
       "      <td>0.609460</td>\n",
       "      <td>-0.746845</td>\n",
       "      <td>-1.580751</td>\n",
       "      <td>...</td>\n",
       "      <td>-0.002116</td>\n",
       "      <td>0.009686</td>\n",
       "      <td>-0.428325</td>\n",
       "      <td>0.536043</td>\n",
       "      <td>0.278736</td>\n",
       "      <td>0.680976</td>\n",
       "      <td>-0.069295</td>\n",
       "      <td>0.051891</td>\n",
       "      <td>0.76</td>\n",
       "      <td>0</td>\n",
       "    </tr>\n",
       "    <tr>\n",
       "      <th>27636</th>\n",
       "      <td>-1.444958</td>\n",
       "      <td>1.264710</td>\n",
       "      <td>0.370500</td>\n",
       "      <td>-0.607371</td>\n",
       "      <td>0.155386</td>\n",
       "      <td>0.264429</td>\n",
       "      <td>-0.246528</td>\n",
       "      <td>0.703092</td>\n",
       "      <td>0.374768</td>\n",
       "      <td>-0.493145</td>\n",
       "      <td>...</td>\n",
       "      <td>0.271551</td>\n",
       "      <td>1.072854</td>\n",
       "      <td>-0.449656</td>\n",
       "      <td>0.122150</td>\n",
       "      <td>0.209835</td>\n",
       "      <td>-0.081948</td>\n",
       "      <td>0.034733</td>\n",
       "      <td>-0.131398</td>\n",
       "      <td>7.49</td>\n",
       "      <td>0</td>\n",
       "    </tr>\n",
       "  </tbody>\n",
       "</table>\n",
       "<p>54276 rows × 30 columns</p>\n",
       "</div>"
      ],
      "text/plain": [
       "           PC01      PC02      PC03      PC04      PC05      PC06      PC07  \\\n",
       "57638 -0.514509  0.899378  1.627215 -0.142250  0.005250 -0.235422  0.482540   \n",
       "27686 -0.813568 -0.373893  1.152977 -0.449774 -3.868866  2.780636  3.654192   \n",
       "13321 -2.443142  3.258831 -0.791511  0.223548  0.007932 -1.263044  1.220214   \n",
       "28308 -0.397300  0.922104  1.224699 -0.334974  0.322603 -0.117372  0.534683   \n",
       "54252  1.994046 -0.367813 -0.462867  0.338661 -0.485326 -0.241576 -0.590987   \n",
       "...         ...       ...       ...       ...       ...       ...       ...   \n",
       "49499 -0.033583 -0.487672  1.435406 -2.759369 -1.785638  0.402364 -2.306038   \n",
       "29250 -0.731245  1.151677  0.912393 -0.653540  0.700577 -0.461372  1.093273   \n",
       "31586  2.135923 -0.714182 -1.842502 -0.587267  0.090754 -0.465733 -0.024834   \n",
       "14898 -0.335632  0.939736 -2.961515 -1.224739  4.446891  2.352092  0.789725   \n",
       "27636 -1.444958  1.264710  0.370500 -0.607371  0.155386  0.264429 -0.246528   \n",
       "\n",
       "           PC08      PC09      PC10  ...      PC21      PC22      PC23  \\\n",
       "57638  0.247403 -0.562327 -0.166813  ... -0.143290 -0.390205  0.030719   \n",
       "27686 -0.672442  0.753230 -0.662803  ... -0.376783 -0.004239  0.074801   \n",
       "13321 -0.418068  1.860453  4.184883  ... -0.348587  0.531679  0.058990   \n",
       "28308  0.175550 -0.486404 -0.120147  ... -0.239303 -0.695001 -0.128231   \n",
       "54252  0.089319  1.413224 -0.149292  ... -0.196388 -0.484457  0.421867   \n",
       "...         ...       ...       ...  ...       ...       ...       ...   \n",
       "49499 -2.287179  0.129717 -1.036412  ... -1.286823  0.824100  0.018890   \n",
       "29250 -0.126254 -0.339171 -0.467356  ... -0.368185 -0.991854 -0.376461   \n",
       "31586 -0.328747 -0.659832  0.853241  ... -0.537267 -1.081138  0.196589   \n",
       "14898  0.609460 -0.746845 -1.580751  ... -0.002116  0.009686 -0.428325   \n",
       "27636  0.703092  0.374768 -0.493145  ...  0.271551  1.072854 -0.449656   \n",
       "\n",
       "           PC24      PC25      PC26      PC27      PC28  Amount  Fraud  \n",
       "57638  0.184779 -0.348711  0.073253  0.273217  0.107938    3.59      0  \n",
       "27686  0.124238 -0.448493  0.861423 -0.093639 -0.711632  798.01      0  \n",
       "13321  0.371638 -0.207398 -0.505837  0.524542 -0.343895    1.79      0  \n",
       "28308 -0.536463 -0.138971  0.107526  0.255644  0.100814    2.69      0  \n",
       "54252  0.601393 -0.448014 -0.646256  0.027632 -0.027244    4.49      0  \n",
       "...         ...       ...       ...       ...       ...     ...    ...  \n",
       "49499  0.000018  0.301618  0.081215  0.163422  0.252456   10.00      0  \n",
       "29250 -0.661608  0.554237  0.450650  0.076395  0.096252    6.99      0  \n",
       "31586  0.087797 -0.111583  0.479888 -0.082523 -0.053305   64.90      0  \n",
       "14898  0.536043  0.278736  0.680976 -0.069295  0.051891    0.76      0  \n",
       "27636  0.122150  0.209835 -0.081948  0.034733 -0.131398    7.49      0  \n",
       "\n",
       "[54276 rows x 30 columns]"
      ]
     },
     "execution_count": 12,
     "metadata": {},
     "output_type": "execute_result"
    }
   ],
   "source": [
    "fraud_train"
   ]
  },
  {
   "cell_type": "code",
   "execution_count": 13,
   "metadata": {},
   "outputs": [
    {
     "name": "stdout",
     "output_type": "stream",
     "text": [
      "           Label  Count  Proportion\n",
      "0  0 (Not Fraud)  53961   99.419633\n",
      "1      1 (Fraud)    315    0.580367\n"
     ]
    }
   ],
   "source": [
    "# Calculate counts and proportions\n",
    "label_counts = fraud_train['Fraud'].value_counts().sort_index()\n",
    "label_proportions = fraud_train['Fraud'].value_counts(normalize=True).sort_index()\n",
    "\n",
    "# Create a summary DataFrame\n",
    "summary_counts = pd.DataFrame({\n",
    "    'Label': ['0 (Not Fraud)', '1 (Fraud)'],\n",
    "    'Count': label_counts.values,\n",
    "    'Proportion': label_proportions.values\n",
    "})\n",
    "\n",
    "# Convert proportions to percentages\n",
    "summary_counts['Proportion'] = summary_counts['Proportion'] * 100\n",
    "\n",
    "print(summary_counts)"
   ]
  },
  {
   "cell_type": "code",
   "execution_count": 14,
   "metadata": {},
   "outputs": [
    {
     "name": "stdout",
     "output_type": "stream",
     "text": [
      "       Condition        Mean  Standard Deviation  Median   Maximum\n",
      "0           None   88.197903          241.535617   21.69  10199.44\n",
      "1  0 (Not Fraud)   88.065104          241.451144   21.80  10199.44\n",
      "2      1 (Fraud)  110.947016          254.978960    6.99   2125.87\n"
     ]
    }
   ],
   "source": [
    "# Overall Amount Statistics\n",
    "overall_stats = fraud_train['Amount'].agg(['mean', 'std', 'median', 'max']).rename({\n",
    "    'mean': 'Mean',\n",
    "    'std': 'Standard Deviation',\n",
    "    'median': 'Median',\n",
    "    'max': 'Maximum'\n",
    "})\n",
    "\n",
    "# Amount Statistics for Each Label\n",
    "amount_stats_by_label = fraud_train.groupby('Fraud')['Amount'].agg(['mean', 'std', 'median', 'max']).rename(columns={\n",
    "    'mean': 'Mean',\n",
    "    'std': 'Standard Deviation',\n",
    "    'median': 'Median',\n",
    "    'max': 'Maximum'\n",
    "})\n",
    "\n",
    "# Combine the statistics into a single DataFrame\n",
    "amount_stats = pd.concat([\n",
    "    pd.DataFrame({'Condition': ['None'], 'Mean': [overall_stats['Mean']], \n",
    "                  'Standard Deviation': [overall_stats['Standard Deviation']], \n",
    "                  'Median': [overall_stats['Median']], \n",
    "                  'Maximum': [overall_stats['Maximum']]}),\n",
    "    pd.DataFrame({\n",
    "        'Condition': ['0 (Not Fraud)', '1 (Fraud)'],\n",
    "        'Mean': amount_stats_by_label['Mean'].values,\n",
    "        'Standard Deviation': amount_stats_by_label['Standard Deviation'].values,\n",
    "        'Median': amount_stats_by_label['Median'].values,\n",
    "        'Maximum': amount_stats_by_label['Maximum'].values\n",
    "    })\n",
    "], ignore_index=True)\n",
    "\n",
    "print(amount_stats)\n"
   ]
  },
  {
   "cell_type": "markdown",
   "metadata": {},
   "source": [
    "The class distribution of the Fraud feature is highly imbalanced, with non-fraudulent transactions (0) comprising 99.42% of the dataset and fraudulent transactions (1) making up only 0.58%.\n",
    "\n",
    "The fraudulent transactions have a slightly higher mean amount ($110.95), but the median amount is lower compared to non-fraudulent transactions, suggesting that a few high-value fraudulent transactions skew the average."
   ]
  },
  {
   "cell_type": "code",
   "execution_count": 15,
   "metadata": {},
   "outputs": [
    {
     "data": {
      "image/png": "[encoded data removed]",
      "text/plain": [
       "<Figure size 1000x600 with 1 Axes>"
      ]
     },
     "metadata": {},
     "output_type": "display_data"
    },
    {
     "data": {
      "image/png": "[encoded data removed]",
      "text/plain": [
       "<Figure size 600x400 with 1 Axes>"
      ]
     },
     "metadata": {},
     "output_type": "display_data"
    }
   ],
   "source": [
    "# visualizations\n",
    "\n",
    "\n",
    "# Distribution of transaction amounts\n",
    "plt.figure(figsize=(10,6))\n",
    "sns.histplot(fraud_train['Amount'], bins=50, kde=True)\n",
    "plt.title('Distribution of Transaction Amounts')\n",
    "plt.xlabel('Amount ($)')\n",
    "plt.ylabel('Frequency')\n",
    "plt.show()\n",
    "\n",
    "# Class distribution\n",
    "plt.figure(figsize=(6,4))\n",
    "sns.countplot(x='Fraud', data=fraud_train)\n",
    "plt.title('Class Distribution')\n",
    "plt.xlabel('Fraud')\n",
    "plt.ylabel('Count')\n",
    "plt.show()\n"
   ]
  },
  {
   "cell_type": "markdown",
   "metadata": {},
   "source": [
    "Distribution of Transaction Amounts:\n",
    "\n",
    "The vast majority of transactions are of relatively low value, with the distribution being heavily skewed towards the lower range.\n",
    "\n",
    "Class Distribution:\n",
    "\n",
    "The class distribution of the target variable (Fraud) highlights the high imbalance, with only a small fraction of the transactions being fraudulent."
   ]
  },
  {
   "cell_type": "markdown",
   "metadata": {},
   "source": [
    "### Models"
   ]
  },
  {
   "cell_type": "code",
   "execution_count": 16,
   "metadata": {},
   "outputs": [],
   "source": [
    "# process data for ML\n",
    "\n",
    "# create X and y for train\n",
    "X_train = fraud_train.drop(\"Fraud\", axis=1)\n",
    "y_train = fraud_train[\"Fraud\"]\n",
    "\n",
    "# create X and y for test\n",
    "X_test = fraud_test.drop(\"Fraud\", axis=1)\n",
    "y_test = fraud_test[\"Fraud\"]"
   ]
  },
  {
   "cell_type": "code",
   "execution_count": 17,
   "metadata": {},
   "outputs": [
    {
     "name": "stdout",
     "output_type": "stream",
     "text": [
      "Fitting 5 folds for each of 2 candidates, totalling 10 fits\n",
      "Best Parameters: {'classifier__max_depth': 5, 'classifier__min_samples_leaf': 6, 'classifier__min_samples_split': 4, 'classifier__n_estimators': 180}\n"
     ]
    }
   ],
   "source": [
    "# train models\n",
    "# Define the pipeline\n",
    "pipeline = Pipeline([\n",
    "    ('scaler', StandardScaler()),\n",
    "    ('classifier', RandomForestClassifier(random_state=42, class_weight='balanced'))\n",
    "])\n",
    "\n",
    "param_grid = {\n",
    "    'classifier__n_estimators': [160,180],\n",
    "    'classifier__max_depth': [5],\n",
    "    'classifier__min_samples_split': [4],\n",
    "    'classifier__min_samples_leaf': [6]\n",
    "}\n",
    "\n",
    "# Initialize GridSearchCV\n",
    "grid_search = GridSearchCV(\n",
    "    estimator=pipeline,\n",
    "    param_grid=param_grid,\n",
    "    cv=5,\n",
    "    scoring='f1',\n",
    "    n_jobs=-1,\n",
    "    verbose=2\n",
    ")\n",
    "\n",
    "# Fit the model\n",
    "grid_search.fit(X_train, y_train)\n",
    "\n",
    "# Best parameters\n",
    "print(\"Best Parameters:\", grid_search.best_params_)"
   ]
  },
  {
   "cell_type": "code",
   "execution_count": 18,
   "metadata": {},
   "outputs": [],
   "source": [
    "# Best model\n",
    "best_model = grid_search.best_estimator_\n",
    "\n",
    "# Predictions\n",
    "y_pred = best_model.predict(X_test)\n",
    "y_proba = best_model.predict_proba(X_test)[:,1]\n"
   ]
  },
  {
   "cell_type": "code",
   "execution_count": 19,
   "metadata": {},
   "outputs": [
    {
     "name": "stdout",
     "output_type": "stream",
     "text": [
      "Precision: 0.80\n",
      "Recall: 0.85\n",
      "              precision    recall  f1-score   support\n",
      "\n",
      "           0       1.00      1.00      1.00     13490\n",
      "           1       0.80      0.85      0.82        79\n",
      "\n",
      "    accuracy                           1.00     13569\n",
      "   macro avg       0.90      0.92      0.91     13569\n",
      "weighted avg       1.00      1.00      1.00     13569\n",
      "\n",
      "ROC AUC: 0.98\n"
     ]
    }
   ],
   "source": [
    "# Precision and Recall\n",
    "precision = precision_score(y_test, y_pred)\n",
    "recall = recall_score(y_test, y_pred)\n",
    "\n",
    "print(f\"Precision: {precision:.2f}\")\n",
    "print(f\"Recall: {recall:.2f}\")\n",
    "\n",
    "# Detailed classification report\n",
    "print(classification_report(y_test, y_pred))\n",
    "\n",
    "# ROC AUC\n",
    "roc_auc = roc_auc_score(y_test, y_proba)\n",
    "print(f\"ROC AUC: {roc_auc:.2f}\")"
   ]
  },
  {
   "cell_type": "code",
   "execution_count": 20,
   "metadata": {},
   "outputs": [
    {
     "name": "stdout",
     "output_type": "stream",
     "text": [
      "Cross-validated F1 scores: [0.81818182 0.79699248 0.76056338 0.86956522 0.80620155]\n",
      "Mean F1 score: 0.81\n"
     ]
    }
   ],
   "source": [
    "cv_f1 = cross_val_score(best_model, X_train, y_train, cv=5, scoring='f1')\n",
    "print(f\"Cross-validated F1 scores: {cv_f1}\")\n",
    "print(f\"Mean F1 score: {cv_f1.mean():.2f}\")"
   ]
  },
  {
   "cell_type": "markdown",
   "metadata": {},
   "source": [
    "Models\n",
    "\n",
    "A machine learning pipeline was created to preprocess the data and train a model capable of detecting fraudulent transactions. The pipeline includes:\n",
    "\n",
    "StandardScaler for normalization of features.\n",
    "RandomForestClassifier for classification, chosen for its interpretability and robustness.\n",
    "Hyperparameter Optimization: GridSearchCV was used to tune hyperparameters (n_estimators, max_depth, min_samples_split, min_samples_leaf) to optimize performance. The final model had 180 estimators, a max depth of 5, a minimum sample split of 4, and minimum samples per leaf of 6."
   ]
  },
  {
   "cell_type": "markdown",
   "metadata": {},
   "source": [
    "## Results"
   ]
  },
  {
   "cell_type": "code",
   "execution_count": 21,
   "metadata": {},
   "outputs": [],
   "source": [
    "mod=grid_search.best_estimator_"
   ]
  },
  {
   "cell_type": "code",
   "execution_count": 22,
   "metadata": {},
   "outputs": [
    {
     "data": {
      "text/plain": [
       "['credit-fraud.joblib']"
      ]
     },
     "execution_count": 22,
     "metadata": {},
     "output_type": "execute_result"
    }
   ],
   "source": [
    "# report model metrics\n",
    "from joblib import dump\n",
    "\n",
    "# Serialize the model\n",
    "dump(mod, \"credit-fraud.joblib\")"
   ]
  },
  {
   "cell_type": "markdown",
   "metadata": {},
   "source": [
    "Results\n",
    "\n",
    "The model's performance was assessed using various metrics:\n",
    "\n",
    "Precision: 0.80\n",
    "Recall: 0.85\n",
    "ROC AUC Score: 0.98\n",
    "These metrics show that the model was able to identify the majority of fraudulent transactions, with a good balance between precision (reducing false positives) and recall (capturing true fraudulent transactions).\n",
    "\n",
    "The confusion matrix indicated that the model performed well for the non-fraud class but occasionally missed fraudulent transactions. Cross-validated F1 score averaged 0.81 across 5 folds, further supporting the model's effectiveness in imbalanced settings."
   ]
  },
  {
   "cell_type": "markdown",
   "metadata": {},
   "source": [
    "## Discussion"
   ]
  },
  {
   "cell_type": "markdown",
   "metadata": {},
   "source": [
    "Discussion\n",
    "\n",
    "This model is well-suited for the task of detecting fraudulent transactions in real time, given its high recall and overall accuracy. Its precision and recall metrics strike a balance between the conflicting needs of catching fraud and avoiding unnecessary false positives that might harm customer experience. The ROC AUC score of 0.98 demonstrates the model’s ability to distinguish between genuine and fraudulent transactions effectively.\n",
    "\n",
    "Limitations: The dataset is still highly imbalanced despite preprocessing adjustments, which can potentially introduce bias into the classification process. Fraudulent transactions may often display characteristics that are difficult to identify with general metrics, and the cost of a missed fraudulent transaction is higher than that of a false alert.\n",
    "\n",
    "Precision vs Recall: In the context of fraud detection, recall is prioritized since failing to detect a fraudulent transaction has significant financial implications. While false positives (lower precision) can be costly in terms of investigation, they are less detrimental compared to missed fraudulent activities. Therefore, a trade-off was made that slightly favors recall to ensure maximum coverage of fraudulent transactions.\n",
    "\n",
    "Recommendations for Real-World Use: Based on the results, this model could be put into production but would benefit from further development to address remaining biases. Potential improvements include using a more sophisticated ensemble model, applying SMOTE (Synthetic Minority Over-sampling Technique) for rebalancing the dataset, or employing different types of anomaly detection methods for capturing complex fraudulent patterns."
   ]
  },
  {
   "cell_type": "markdown",
   "metadata": {},
   "source": [
    "### Conclusion"
   ]
  },
  {
   "cell_type": "markdown",
   "metadata": {},
   "source": [
    "The implemented fraud detection model effectively identifies fraudulent credit card transactions with a reasonable balance between false positives and false negatives. Given the promising ROC AUC score and cross-validated F1 score, I recommend proceeding with production deployment while conducting further tests and incorporating more sophisticated fraud detection strategies."
   ]
  }
 ],
 "metadata": {
  "kernelspec": {
   "display_name": "Python 3",
   "language": "python",
   "name": "python3"
  },
  "language_info": {
   "codemirror_mode": {
    "name": "ipython",
    "version": 3
   },
   "file_extension": ".py",
   "mimetype": "text/x-python",
   "name": "python",
   "nbconvert_exporter": "python",
   "pygments_lexer": "ipython3",
   "version": "3.12.6"
  }
 },
 "nbformat": 4,
 "nbformat_minor": 2
}
