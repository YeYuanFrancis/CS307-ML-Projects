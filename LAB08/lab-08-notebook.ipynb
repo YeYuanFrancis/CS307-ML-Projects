{
 "cells": [
  {
   "cell_type": "markdown",
   "metadata": {},
   "source": [
    "# Lab 08: Airline Tweets Sentiment Analysis"
   ]
  },
  {
   "cell_type": "markdown",
   "metadata": {},
   "source": [
    "---\n",
    "author: Ye Yuan\n",
    "date: November 20, 2024\n",
    "embed-resources: true\n",
    "---"
   ]
  },
  {
   "cell_type": "markdown",
   "metadata": {},
   "source": [
    "## Introduction"
   ]
  },
  {
   "cell_type": "markdown",
   "metadata": {},
   "source": [
    "Air travel can often lead to frustration and dissatisfaction among passengers, resulting in numerous tweets targeting airlines. As part of the social team of a major US airline, we aim to enhance customer experience by promptly addressing negative feedback and acknowledging positive interactions. The objective is to build a sentiment classification model that efficiently processes tweets and classifies them into one of three sentiments: negative, neutral, or positive. This model will serve as a tool to assist customer service representatives in prioritizing tasks and maintaining customer satisfaction."
   ]
  },
  {
   "cell_type": "markdown",
   "metadata": {},
   "source": [
    "## Methods"
   ]
  },
  {
   "cell_type": "code",
   "execution_count": 110,
   "metadata": {},
   "outputs": [],
   "source": [
    "# imports\n",
    "import pandas as pd\n",
    "import numpy as np\n",
    "from sklearn.model_selection import train_test_split, GridSearchCV, StratifiedKFold\n",
    "from sklearn.pipeline import Pipeline\n",
    "from sklearn.feature_extraction.text import TfidfVectorizer\n",
    "from sklearn.linear_model import LogisticRegression\n",
    "from sklearn.metrics import accuracy_score, classification_report\n",
    "from joblib import dump\n",
    "import warnings\n",
    "import matplotlib.pyplot as plt"
   ]
  },
  {
   "cell_type": "markdown",
   "metadata": {},
   "source": [
    "### Data"
   ]
  },
  {
   "cell_type": "markdown",
   "metadata": {},
   "source": [
    "To achieve the goal of building a sentiment classifier for airline tweets, we use a dataset sourced from Kaggle, specifically the Twitter US Airline Sentiment dataset. This dataset contains labeled data for tweets directed at major U.S. airlines, offering insight into passenger sentiments and the issues they encounter during air travel. The data was originally scraped in February 2015, and contributors were tasked with classifying tweets into one of three sentiment categories: positive, neutral, and negative. Negative tweets were further categorized into specific reasons such as \"late flight\" or \"rude service.\"\n",
    "\n",
    "Response Variable:\n",
    "\n",
    "sentiment: The sentiment of the tweet, labeled as one of three categories:\n",
    "\n",
    "negative\n",
    "neutral\n",
    "positive\n",
    "\n",
    "Features:\n",
    "\n",
    "text: The full content of the tweet, capturing user feedback, complaints, or acknowledgments.\n"
   ]
  },
  {
   "cell_type": "code",
   "execution_count": 111,
   "metadata": {},
   "outputs": [],
   "source": [
    "# load data\n",
    "tweets = pd.read_csv(\n",
    "    \"https://cs307.org/lab-08/data/tweets.csv\",\n",
    ")\n",
    "tweets_train, tweets_test = train_test_split(\n",
    "    tweets,\n",
    "    test_size=0.25,\n",
    "    random_state=42,\n",
    ")"
   ]
  },
  {
   "cell_type": "code",
   "execution_count": 112,
   "metadata": {},
   "outputs": [
    {
     "data": {
      "text/html": [
       "<div>\n",
       "<style scoped>\n",
       "    .dataframe tbody tr th:only-of-type {\n",
       "        vertical-align: middle;\n",
       "    }\n",
       "\n",
       "    .dataframe tbody tr th {\n",
       "        vertical-align: top;\n",
       "    }\n",
       "\n",
       "    .dataframe thead th {\n",
       "        text-align: right;\n",
       "    }\n",
       "</style>\n",
       "<table border=\"1\" class=\"dataframe\">\n",
       "  <thead>\n",
       "    <tr style=\"text-align: right;\">\n",
       "      <th></th>\n",
       "      <th>sentiment</th>\n",
       "      <th>airline</th>\n",
       "      <th>text</th>\n",
       "    </tr>\n",
       "  </thead>\n",
       "  <tbody>\n",
       "    <tr>\n",
       "      <th>2233</th>\n",
       "      <td>positive</td>\n",
       "      <td>Delta</td>\n",
       "      <td>@JetBlue Then en route to the airport the rebo...</td>\n",
       "    </tr>\n",
       "    <tr>\n",
       "      <th>10733</th>\n",
       "      <td>negative</td>\n",
       "      <td>United</td>\n",
       "      <td>@united now you've lost my bags too.  At least...</td>\n",
       "    </tr>\n",
       "    <tr>\n",
       "      <th>400</th>\n",
       "      <td>neutral</td>\n",
       "      <td>US Airways</td>\n",
       "      <td>@USAirways Hi, can you attach my AA FF# 94LXA6...</td>\n",
       "    </tr>\n",
       "    <tr>\n",
       "      <th>7615</th>\n",
       "      <td>positive</td>\n",
       "      <td>United</td>\n",
       "      <td>@United, will you fill it? Yes they will. Than...</td>\n",
       "    </tr>\n",
       "    <tr>\n",
       "      <th>4099</th>\n",
       "      <td>negative</td>\n",
       "      <td>American</td>\n",
       "      <td>@AmericanAir thanks! I hope we get movies. Tv'...</td>\n",
       "    </tr>\n",
       "    <tr>\n",
       "      <th>...</th>\n",
       "      <td>...</td>\n",
       "      <td>...</td>\n",
       "      <td>...</td>\n",
       "    </tr>\n",
       "    <tr>\n",
       "      <th>5734</th>\n",
       "      <td>negative</td>\n",
       "      <td>United</td>\n",
       "      <td>@united Can i get a refund? I would like to bo...</td>\n",
       "    </tr>\n",
       "    <tr>\n",
       "      <th>5191</th>\n",
       "      <td>neutral</td>\n",
       "      <td>Virgin America</td>\n",
       "      <td>@VirginAmerica what is your policy on flying a...</td>\n",
       "    </tr>\n",
       "    <tr>\n",
       "      <th>5390</th>\n",
       "      <td>negative</td>\n",
       "      <td>United</td>\n",
       "      <td>@united I'm not sure how you can help. Your fl...</td>\n",
       "    </tr>\n",
       "    <tr>\n",
       "      <th>860</th>\n",
       "      <td>neutral</td>\n",
       "      <td>Virgin America</td>\n",
       "      <td>@VirginAmerica LAX to EWR - Middle seat on a r...</td>\n",
       "    </tr>\n",
       "    <tr>\n",
       "      <th>7270</th>\n",
       "      <td>negative</td>\n",
       "      <td>United</td>\n",
       "      <td>@united Hopefully my baggage fees will be waiv...</td>\n",
       "    </tr>\n",
       "  </tbody>\n",
       "</table>\n",
       "<p>8235 rows × 3 columns</p>\n",
       "</div>"
      ],
      "text/plain": [
       "      sentiment         airline  \\\n",
       "2233   positive           Delta   \n",
       "10733  negative          United   \n",
       "400     neutral      US Airways   \n",
       "7615   positive          United   \n",
       "4099   negative        American   \n",
       "...         ...             ...   \n",
       "5734   negative          United   \n",
       "5191    neutral  Virgin America   \n",
       "5390   negative          United   \n",
       "860     neutral  Virgin America   \n",
       "7270   negative          United   \n",
       "\n",
       "                                                    text  \n",
       "2233   @JetBlue Then en route to the airport the rebo...  \n",
       "10733  @united now you've lost my bags too.  At least...  \n",
       "400    @USAirways Hi, can you attach my AA FF# 94LXA6...  \n",
       "7615   @United, will you fill it? Yes they will. Than...  \n",
       "4099   @AmericanAir thanks! I hope we get movies. Tv'...  \n",
       "...                                                  ...  \n",
       "5734   @united Can i get a refund? I would like to bo...  \n",
       "5191   @VirginAmerica what is your policy on flying a...  \n",
       "5390   @united I'm not sure how you can help. Your fl...  \n",
       "860    @VirginAmerica LAX to EWR - Middle seat on a r...  \n",
       "7270   @united Hopefully my baggage fees will be waiv...  \n",
       "\n",
       "[8235 rows x 3 columns]"
      ]
     },
     "execution_count": 112,
     "metadata": {},
     "output_type": "execute_result"
    }
   ],
   "source": [
    "tweets_train"
   ]
  },
  {
   "cell_type": "markdown",
   "metadata": {},
   "source": []
  },
  {
   "cell_type": "code",
   "execution_count": 113,
   "metadata": {},
   "outputs": [
    {
     "name": "stdout",
     "output_type": "stream",
     "text": [
      "                Count  Proportion (%)\n",
      "airline                              \n",
      "United           2166            26.3\n",
      "US Airways       1664            20.2\n",
      "American         1551            18.8\n",
      "Southwest        1347            16.4\n",
      "Delta            1239            15.0\n",
      "Virgin America    268             3.3\n"
     ]
    }
   ],
   "source": [
    "# summary statistics\n",
    "# Calculate counts\n",
    "airline_counts = tweets_train['airline'].value_counts()\n",
    "\n",
    "# Calculate proportions\n",
    "airline_proportions = (airline_counts / airline_counts.sum())*100\n",
    "\n",
    "# Create a summary DataFrame\n",
    "airline_summary = pd.DataFrame({\n",
    "    'Count': airline_counts,\n",
    "    'Proportion (%)': airline_proportions.round(1)\n",
    "})\n",
    "\n",
    "print(airline_summary)"
   ]
  },
  {
   "cell_type": "code",
   "execution_count": 114,
   "metadata": {},
   "outputs": [
    {
     "name": "stdout",
     "output_type": "stream",
     "text": [
      "        Word  Count\n",
      "0  cancelled    595\n",
      "1     please    325\n",
      "2     thanks    587\n"
     ]
    }
   ],
   "source": [
    "# Define the words to count\n",
    "target_words = ['cancelled', 'please', 'thanks']\n",
    "\n",
    "# Initialize CountVectorizer with lowercasing and no stop word removal\n",
    "vectorizer = CountVectorizer(lowercase=True, stop_words=None)\n",
    "\n",
    "# Fit and transform the training text data\n",
    "X_counts = vectorizer.fit_transform(tweets_train['text'])  # Use the 'text' column\n",
    "\n",
    "# Convert to DataFrame for easier manipulation\n",
    "word_df = pd.DataFrame(\n",
    "    X_counts.toarray(),\n",
    "    columns=vectorizer.get_feature_names_out()\n",
    ")\n",
    "\n",
    "# Calculate the total counts for each target word\n",
    "word_counts = word_df[target_words].sum().reset_index()\n",
    "word_counts.columns = ['Word', 'Count']\n",
    "\n",
    "print(word_counts)\n"
   ]
  },
  {
   "cell_type": "markdown",
   "metadata": {},
   "source": [
    "The dataset reveals a skewed distribution of tweets, with United Airlines receiving the highest number of tweets (26.3%), followed by US Airways (20.2%) and American Airlines (18.8%). Virgin America received significantly fewer tweets (3.3%).\n",
    "\n",
    "When analyzing the text of the tweets, the word \"cancelled\" appears most frequently (595 occurrences), highlighting a common source of frustration for customers. Words like \"please\" (325 occurrences) and \"thanks\" (587 occurrences) often indicate attempts at polite communication or acknowledgment, which are relevant for sentiment classification."
   ]
  },
  {
   "cell_type": "code",
   "execution_count": 115,
   "metadata": {},
   "outputs": [
    {
     "data": {
      "image/png": "[encoded data removed]",
      "text/plain": [
       "<Figure size 1000x600 with 1 Axes>"
      ]
     },
     "metadata": {},
     "output_type": "display_data"
    },
    {
     "data": {
      "image/png": "[encoded data removed]",
      "text/plain": [
       "<Figure size 1000x600 with 1 Axes>"
      ]
     },
     "metadata": {},
     "output_type": "display_data"
    }
   ],
   "source": [
    "# visualizations\n",
    "airline_counts = pd.Series({\n",
    "    'United': 2166,\n",
    "    'US Airways': 1664,\n",
    "    'American': 1551,\n",
    "    'Southwest': 1347,\n",
    "    'Delta': 1239,\n",
    "    'Virgin America': 268\n",
    "})\n",
    "\n",
    "word_counts = pd.DataFrame({\n",
    "    'Word': ['cancelled', 'please', 'thanks'],\n",
    "    'Count': [595, 325, 587]\n",
    "})\n",
    "\n",
    "# Visualization 1: Distribution of Tweets per Airline\n",
    "plt.figure(figsize=(10, 6))\n",
    "airline_counts.plot(kind='bar', color='skyblue')\n",
    "plt.title('Distribution of Tweets per Airline', fontsize=16)\n",
    "plt.xlabel('Airline', fontsize=14)\n",
    "plt.ylabel('Number of Tweets', fontsize=14)\n",
    "plt.xticks(rotation=45, fontsize=12)\n",
    "plt.tight_layout()\n",
    "plt.show()\n",
    "\n",
    "# Visualization 2: Word Frequency for Target Words\n",
    "plt.figure(figsize=(10, 6))\n",
    "plt.bar(word_counts['Word'], word_counts['Count'], color='lightcoral')\n",
    "plt.title('Frequency of Target Words in Tweets', fontsize=16)\n",
    "plt.xlabel('Word', fontsize=14)\n",
    "plt.ylabel('Count', fontsize=14)\n",
    "plt.xticks(fontsize=12)\n",
    "plt.tight_layout()\n",
    "plt.show()"
   ]
  },
  {
   "cell_type": "markdown",
   "metadata": {},
   "source": [
    "Distribution of Tweets per Airline:\n",
    "This chart shows the number of tweets per airline, with United Airlines receiving the most tweets (26.3%) and Virgin America the fewest (3.3%). The distribution highlights varying levels of customer interaction across airlines, with United being the most discussed.\n",
    "\n",
    "Frequency of Target Words in Tweets:\n",
    "This chart highlights the frequency of key words, with \"cancelled\" (595 occurrences) being the most common, followed by \"thanks\" (587) and \"please\" (325). These words indicate recurring themes like flight cancellations and polite customer inquiries."
   ]
  },
  {
   "cell_type": "markdown",
   "metadata": {},
   "source": [
    "### Models"
   ]
  },
  {
   "cell_type": "code",
   "execution_count": 116,
   "metadata": {},
   "outputs": [],
   "source": [
    "# process data for ML\n",
    "# create X and y for train data\n",
    "X_train = tweets_train[\"text\"]\n",
    "y_train = tweets_train[\"sentiment\"]\n",
    "\n",
    "# create X and y for test data\n",
    "X_test = tweets_test[\"text\"]\n",
    "y_test = tweets_test[\"sentiment\"]"
   ]
  },
  {
   "cell_type": "code",
   "execution_count": 117,
   "metadata": {},
   "outputs": [
    {
     "name": "stdout",
     "output_type": "stream",
     "text": [
      "Fitting 5 folds for each of 54 candidates, totalling 270 fits\n",
      "Best Parameters: {'classifier__C': 10, 'classifier__penalty': 'l2', 'vectorizer__max_features': 60000, 'vectorizer__ngram_range': (1, 2)}\n",
      "Test Accuracy: 0.81\n",
      "              precision    recall  f1-score   support\n",
      "\n",
      "    negative       0.87      0.90      0.88      1720\n",
      "     neutral       0.65      0.63      0.64       551\n",
      "    positive       0.76      0.69      0.72       474\n",
      "\n",
      "    accuracy                           0.81      2745\n",
      "   macro avg       0.76      0.74      0.75      2745\n",
      "weighted avg       0.81      0.81      0.81      2745\n",
      "\n"
     ]
    }
   ],
   "source": [
    "# train models\n",
    "# Define pipeline with TfidfVectorizer\n",
    "pipeline = Pipeline([\n",
    "    ('vectorizer', TfidfVectorizer(max_features=500, ngram_range=(1,2))),\n",
    "    ('classifier', LogisticRegression(solver='lbfgs', max_iter=1000, class_weight='balanced'))\n",
    "])\n",
    "\n",
    "# Hyperparameters for GridSearch\n",
    "param_grid = {\n",
    "    'vectorizer__max_features': [300, 500, 1000, 2000, 5000, 10000, 20000, 40000, 60000],\n",
    "    'vectorizer__ngram_range': [(1,1), (1,2)],\n",
    "    'classifier__C': [0.1, 1, 10],\n",
    "    'classifier__penalty': ['l2']  # 'penalty' l2 is compatible with 'lbfgs' solver\n",
    "}\n",
    "\n",
    "# Stratified K-Fold Cross-Validation to maintain class distribution\n",
    "skf = StratifiedKFold(n_splits=5, shuffle=True, random_state=42)\n",
    "\n",
    "# GridSearch with cross-validation\n",
    "grid = GridSearchCV(pipeline, param_grid, cv=skf, scoring='accuracy', n_jobs=-1, verbose=2)\n",
    "grid.fit(X_train, y_train)\n",
    "\n",
    "# Best model\n",
    "best_model = grid.best_estimator_\n",
    "\n",
    "# Evaluate on test data\n",
    "y_pred = best_model.predict(X_test)\n",
    "test_accuracy = accuracy_score(y_test, y_pred)\n",
    "print(\"Best Parameters:\", grid.best_params_)\n",
    "print(f\"Test Accuracy: {test_accuracy:.2f}\")\n",
    "print(classification_report(y_test, y_pred))"
   ]
  },
  {
   "cell_type": "markdown",
   "metadata": {},
   "source": [
    "Model Development\n",
    "\n",
    "The sentiment classification model was developed using a pipeline that combines TfidfVectorizer for feature extraction and Logistic Regression for classification. The pipeline was optimized using GridSearchCV with stratified 5-fold cross-validation to maintain class distribution. Key components of the model:\n",
    "\n",
    "Vectorization:\n",
    "The TfidfVectorizer was configured with a maximum of 500-60,000 features and n-gram ranges of 1 to 2, capturing both unigrams and bigrams.\n",
    "Classifier:\n",
    "Logistic Regression with the lbfgs solver was chosen for its efficiency and ability to handle multiclass classification. The class weights were balanced to address potential class imbalances.\n",
    "Hyperparameter Tuning:\n",
    "Parameters such as max_features, ngram_range, and Logistic Regression’s regularization strength (C) were tuned. A total of 54 hyperparameter combinations were evaluated.\n",
    "The best-performing model had the following parameters:\n",
    "\n",
    "vectorizer__max_features: 60,000\n",
    "vectorizer__ngram_range: (1, 2)\n",
    "classifier__C: 10"
   ]
  },
  {
   "cell_type": "markdown",
   "metadata": {},
   "source": [
    "## Results"
   ]
  },
  {
   "cell_type": "code",
   "execution_count": 118,
   "metadata": {},
   "outputs": [
    {
     "data": {
      "text/plain": [
       "['airline-sentiment.joblib']"
      ]
     },
     "execution_count": 118,
     "metadata": {},
     "output_type": "execute_result"
    }
   ],
   "source": [
    "# report model metrics\n",
    "mod=grid.best_estimator_\n",
    "from joblib import dump\n",
    "dump(mod, \"airline-sentiment.joblib\")"
   ]
  },
  {
   "cell_type": "markdown",
   "metadata": {},
   "source": [
    "The final model achieved:\n",
    "\n",
    "Overall Accuracy: 81% on the test set.\n",
    "Performance Metrics:\n",
    "Negative tweets: Precision 87%, Recall 90%, F1-Score 88%.\n",
    "Neutral tweets: Precision 65%, Recall 63%, F1-Score 64%.\n",
    "Positive tweets: Precision 76%, Recall 69%, F1-Score 72%.\n",
    "The model performed best on negative tweets, aligning with the primary goal of prioritizing customer service interventions for complaints. While the performance for neutral tweets was lower, the model still provides reasonable classification for all categories."
   ]
  },
  {
   "cell_type": "markdown",
   "metadata": {},
   "source": [
    "## Discussion"
   ]
  },
  {
   "cell_type": "markdown",
   "metadata": {},
   "source": [
    "The model demonstrates strong performance, particularly for identifying negative tweets, making it well-suited for the airline's goal of improving customer service responsiveness. Positive tweet classification is also effective, allowing for automatic acknowledgments. The lower performance on neutral tweets is less critical but could lead to minor misclassification issues.\n",
    "\n",
    "Potential Mistakes and Impact:\n",
    "\n",
    "False Negatives (misclassifying negative tweets):\n",
    "Severity: High. Customer issues may go unresolved, leading to dissatisfaction.\n",
    "False Positives (misclassifying neutral/positive tweets as negative):\n",
    "Severity: Moderate. This may increase workload for customer service but ensures responsiveness.\n",
    "Neutral misclassifications:\n",
    "Severity: Low. Neutral tweets are less critical for immediate response.\n",
    "Recommendations:\n",
    "\n",
    "Model Improvement: Incorporate additional data or advanced NLP techniques to better capture nuances in neutral tweets.\n",
    "Periodic Retraining: Regularly update the model with new data to maintain accuracy as language and trends evolve.\n",
    "Human Oversight: Use the model as a triage tool with human verification for high-stakes responses."
   ]
  },
  {
   "cell_type": "markdown",
   "metadata": {},
   "source": [
    "### Conclusion"
   ]
  },
  {
   "cell_type": "markdown",
   "metadata": {},
   "source": [
    "The trained sentiment classification model achieved an accuracy of 81%, with strong performance in identifying negative tweets (F1-Score: 88%) and reasonable results for positive tweets (F1-Score: 72%). These strengths ensure customer complaints are flagged for immediate attention while positive feedback is acknowledged automatically, aligning with the airline's customer service goals. Although performance on neutral tweets was lower (F1-Score: 64%), this has minimal impact on the overall objective. Future improvements, such as refining pre-processing, incorporating additional data, or exploring advanced NLP models, could enhance accuracy, particularly for neutral tweets. The model is highly recommended for deployment, offering a practical and effective tool to improve customer service responsiveness and operational efficiency."
   ]
  }
 ],
 "metadata": {
  "kernelspec": {
   "display_name": "Python 3",
   "language": "python",
   "name": "python3"
  },
  "language_info": {
   "codemirror_mode": {
    "name": "ipython",
    "version": 3
   },
   "file_extension": ".py",
   "mimetype": "text/x-python",
   "name": "python",
   "nbconvert_exporter": "python",
   "pygments_lexer": "ipython3",
   "version": "3.12.6"
  }
 },
 "nbformat": 4,
 "nbformat_minor": 2
}
